{
 "cells": [
  {
   "cell_type": "markdown",
   "metadata": {},
   "source": [
    "### Various scenarios for the Zenodo Client Constructor"
   ]
  },
  {
   "cell_type": "markdown",
   "metadata": {},
   "source": [
    "#### No/default/None arguments (where token=None and config_path=None or \"\")"
   ]
  },
  {
   "cell_type": "markdown",
   "metadata": {},
   "source": [
    "In this scenario, the constructor is called without any user-defined arguments. There are two possible responses: 1) a config file already exists in `~/.zenodorc`; 2) The `~/.zenodorc` does not exist. \n",
    "\n",
    "The first case is trivial as the existing config file is read and used by the `configparser` library in the `Zenodo` class in `client` module. The `configparser` library raises a `MissingSectionHeaderError` exception if the existing config file does have a section header such as **[ZENODO]** or **[SANDBOX]**. \n",
    "\n",
    "In the second scenario where a `.zenodorc` file does not exist in Home directory, Zenodo class constructor creates a `.zenodorc` file in Home directory that includes two sections: **[ZENODO]** and **[SANDBOX]**. Depending on the value of the `use_sandbox` boolean argument, the corresponding section will be populated with an empty `token` that has to he initialized by the user. Simultaneously, the user will be notified with a warning message about these actions."
   ]
  },
  {
   "cell_type": "code",
   "execution_count": 1,
   "metadata": {},
   "outputs": [],
   "source": [
    "import client"
   ]
  },
  {
   "cell_type": "code",
   "execution_count": 2,
   "metadata": {},
   "outputs": [
    {
     "name": "stderr",
     "output_type": "stream",
     "text": [
      "WARNING: The config file (~/.zenodorc) is found.\n"
     ]
    }
   ],
   "source": [
    "zen = client.Zenodo(use_sandbox=False)"
   ]
  },
  {
   "cell_type": "markdown",
   "metadata": {},
   "source": [
    "List the existing sections in the config object:"
   ]
  },
  {
   "cell_type": "code",
   "execution_count": 3,
   "metadata": {},
   "outputs": [
    {
     "data": {
      "text/plain": [
       "['ZENODO', 'SANDBOX']"
      ]
     },
     "execution_count": 3,
     "metadata": {},
     "output_type": "execute_result"
    }
   ],
   "source": [
    "zen.list_sections()"
   ]
  },
  {
   "cell_type": "markdown",
   "metadata": {},
   "source": [
    "Let us also make sure that the empty `token` placeholder is created in the corresponding section of the config object, assuming the `use_sandbox = False`."
   ]
  },
  {
   "cell_type": "code",
   "execution_count": 3,
   "metadata": {},
   "outputs": [
    {
     "data": {
      "text/plain": [
       "[('token', 'some_value'), ('new_token', 'new_value')]"
      ]
     },
     "execution_count": 3,
     "metadata": {},
     "output_type": "execute_result"
    }
   ],
   "source": [
    "zen.list_tokens(\"ZENODO\")"
   ]
  },
  {
   "cell_type": "markdown",
   "metadata": {},
   "source": [
    "If an empty config file address or empty string is provided for the `config_file_path` argument as `config_file_path=\"\"` and the `token` argument is `None`, the constructor will also interpret the `config_file_path`'s value as `None` and behave similar to the scenario mentioned above."
   ]
  },
  {
   "cell_type": "code",
   "execution_count": 5,
   "metadata": {},
   "outputs": [
    {
     "name": "stderr",
     "output_type": "stream",
     "text": [
      "WARNING: The config file (~/.zenodorc) is found.\n"
     ]
    }
   ],
   "source": [
    "zen = client.Zenodo(config_file_path=\"\", use_sandbox=False)"
   ]
  },
  {
   "cell_type": "markdown",
   "metadata": {},
   "source": [
    "Once the empty `.zenodorc` is created, the empty `token` can be populated either manually or using thje `write_token()` `Zenodo` class member function."
   ]
  },
  {
   "cell_type": "code",
   "execution_count": 6,
   "metadata": {},
   "outputs": [],
   "source": [
    "zen.write_token(\"Zenodo\", \"new_token\", \"new_value\", force_rewrite=True)"
   ]
  },
  {
   "cell_type": "code",
   "execution_count": 7,
   "metadata": {},
   "outputs": [
    {
     "data": {
      "text/plain": [
       "[('token', 'some_value'), ('new_token', 'new_value')]"
      ]
     },
     "execution_count": 7,
     "metadata": {},
     "output_type": "execute_result"
    }
   ],
   "source": [
    "zen.list_tokens(\"Zenodo\")"
   ]
  },
  {
   "cell_type": "markdown",
   "metadata": {},
   "source": [
    "Note that although our convention is to use all capitalized letters for the section headers (*e.g.*, **ZENODO**) when working with config files, all `Zenodo` class member functions are agnostic to the capitalization."
   ]
  },
  {
   "cell_type": "markdown",
   "metadata": {},
   "source": [
    "Once the token is stored in `Zenodo`'s instance's file object, the new changes can be committed/saved into the config file on disk using `update_config_file()`"
   ]
  },
  {
   "cell_type": "code",
   "execution_count": 8,
   "metadata": {},
   "outputs": [],
   "source": [
    "zen.update_config_file()"
   ]
  },
  {
   "cell_type": "markdown",
   "metadata": {},
   "source": [
    "Let us check to see if the changes were applied correctly"
   ]
  },
  {
   "cell_type": "code",
   "execution_count": 15,
   "metadata": {},
   "outputs": [
    {
     "name": "stdout",
     "output_type": "stream",
     "text": [
      "[ZENODO]:\n",
      "\t token = some_value\n",
      "\t new_token = new_value\n",
      "\n",
      "[SANDBOX]:\n",
      "\n"
     ]
    }
   ],
   "source": [
    "for sec in zen.list_sections():\n",
    "    print(\"[%s]:\" % sec)\n",
    "    for key, value in zen.list_tokens(sec):\n",
    "        print(\"\\t %s = %s\" % (key, value))\n",
    "    print()"
   ]
  },
  {
   "cell_type": "markdown",
   "metadata": {},
   "source": [
    "Trying to create a new config file in a location that already exists raises and exception"
   ]
  },
  {
   "cell_type": "code",
   "execution_count": 4,
   "metadata": {},
   "outputs": [
    {
     "ename": "Error",
     "evalue": "A config file already exists in '/home/sina/.zenodorc'.",
     "output_type": "error",
     "traceback": [
      "\u001b[0;31m---------------------------------------------------------------------------\u001b[0m",
      "\u001b[0;31mError\u001b[0m                                     Traceback (most recent call last)",
      "\u001b[1;32m/home/sina/MOLSSI/zenopy/zenopy/test_client.ipynb Cell 21'\u001b[0m in \u001b[0;36m<cell line: 1>\u001b[0;34m()\u001b[0m\n\u001b[0;32m----> <a href='vscode-notebook-cell:/home/sina/MOLSSI/zenopy/zenopy/test_client.ipynb#ch0000017?line=0'>1</a>\u001b[0m zen\u001b[39m.\u001b[39;49mcreate_config_file(\u001b[39m'\u001b[39;49m\u001b[39m~/.zenodorc\u001b[39;49m\u001b[39m'\u001b[39;49m)\n",
      "File \u001b[0;32m~/MOLSSI/zenopy/zenopy/client.py:103\u001b[0m, in \u001b[0;36mZenodo.create_config_file\u001b[0;34m(self, config_file_path)\u001b[0m\n\u001b[1;32m    101\u001b[0m         config_obj\u001b[39m.\u001b[39mwrite(f)\n\u001b[1;32m    102\u001b[0m \u001b[39melse\u001b[39;00m:\n\u001b[0;32m--> 103\u001b[0m     \u001b[39mraise\u001b[39;00m configparser\u001b[39m.\u001b[39mError(\n\u001b[1;32m    104\u001b[0m         \u001b[39mf\u001b[39m\u001b[39m\"\u001b[39m\u001b[39mA config file already exists in \u001b[39m\u001b[39m'\u001b[39m\u001b[39m{\u001b[39;00mpath\u001b[39m}\u001b[39;00m\u001b[39m'\u001b[39m\u001b[39m.\u001b[39m\u001b[39m\"\u001b[39m\n\u001b[1;32m    105\u001b[0m     )\n",
      "\u001b[0;31mError\u001b[0m: A config file already exists in '/home/sina/.zenodorc'."
     ]
    }
   ],
   "source": [
    "zen.create_config_file('~/.zenodorc')"
   ]
  },
  {
   "cell_type": "code",
   "execution_count": 8,
   "metadata": {},
   "outputs": [
    {
     "data": {
      "text/plain": [
       "'some_value'"
      ]
     },
     "execution_count": 8,
     "metadata": {},
     "output_type": "execute_result"
    }
   ],
   "source": [
    "zen.read_token(\"ZENODO\", \"token\")"
   ]
  },
  {
   "cell_type": "code",
   "execution_count": 16,
   "metadata": {},
   "outputs": [],
   "source": [
    "import configparser\n",
    "from pathlib import Path"
   ]
  },
  {
   "cell_type": "code",
   "execution_count": 17,
   "metadata": {},
   "outputs": [
    {
     "data": {
      "text/plain": [
       "['ZENODO', 'SANDBOX']"
      ]
     },
     "execution_count": 17,
     "metadata": {},
     "output_type": "execute_result"
    }
   ],
   "source": [
    "path = \"~/.zenodorc\"\n",
    "# path=\"\"\n",
    "path = Path(path).expanduser()\n",
    "config = configparser.ConfigParser()\n",
    "config.read(path)\n",
    "section = \"ZENODO\"\n",
    "key = 'token'\n",
    "# print(dict((key, list(value)) for key, value in config.items()))\n",
    "# config.default_section = \"MOLSSI\"\n",
    "# config.default_section\n",
    "# config.has_section(\"ZENODO\")\n",
    "# config.has_option(\"ZENODO\", key)\n",
    "# config.get(\"NO\", key)\n",
    "config.sections()\n",
    "# path"
   ]
  },
  {
   "cell_type": "code",
   "execution_count": null,
   "metadata": {},
   "outputs": [],
   "source": [
    "import json\n",
    "str(json.dumps(dict(config[\"ZENODO\"].items()), indent=4))"
   ]
  },
  {
   "cell_type": "code",
   "execution_count": 18,
   "metadata": {},
   "outputs": [
    {
     "data": {
      "text/plain": [
       "<configparser.ConfigParser at 0x7f2ac40b47c0>"
      ]
     },
     "execution_count": 18,
     "metadata": {},
     "output_type": "execute_result"
    }
   ],
   "source": [
    "config"
   ]
  },
  {
   "cell_type": "code",
   "execution_count": null,
   "metadata": {},
   "outputs": [],
   "source": []
  }
 ],
 "metadata": {
  "interpreter": {
   "hash": "c989da9cdb326a73df797cfd358ee3f03734cd4f04f0d2b5a5ad09e8508205bf"
  },
  "kernelspec": {
   "display_name": "Python 3.9.12 ('chemai-dev')",
   "language": "python",
   "name": "python3"
  },
  "language_info": {
   "codemirror_mode": {
    "name": "ipython",
    "version": 3
   },
   "file_extension": ".py",
   "mimetype": "text/x-python",
   "name": "python",
   "nbconvert_exporter": "python",
   "pygments_lexer": "ipython3",
   "version": "3.10.5"
  },
  "orig_nbformat": 4
 },
 "nbformat": 4,
 "nbformat_minor": 2
}
