{
 "cells": [
  {
   "cell_type": "markdown",
   "metadata": {},
   "source": [
    "---\n",
    "**Execute this tutorial in Binder** [![Binder](https://mybinder.org/badge_logo.svg)](https://mybinder.org/v2/gh/MolSSI/zenopy/5a28d6babe6d197bfd3725f0b207065789fc0a9a?urlpath=lab%2Ftree%2Fdocs%2Fnotebooks%2Fquick-start.ipynb)\n",
    "\n",
    "---"
   ]
  },
  {
   "cell_type": "markdown",
   "metadata": {},
   "source": [
    "In this quick-start guide, we demonstrate how you can use ``zenopy`` to create\n",
    "depositions, edit or discard them. For more tutorials, see the [documentation](https://molssi.github.io/zenopy)."
   ]
  },
  {
   "cell_type": "markdown",
   "metadata": {},
   "source": [
    "### **Create a config file**"
   ]
  },
  {
   "cell_type": "markdown",
   "metadata": {},
   "source": [
    "When you want to use ``zenopy`` for the first time, you need to give it access to your Zenodo (Sandbox) account. The first step is to store your authentication token(s) in a config file. You can create a new text file (say, **.zenodorc**) in the current directory and store our token in it as shown below"
   ]
  },
  {
   "cell_type": "code",
   "execution_count": null,
   "metadata": {},
   "outputs": [],
   "source": [
    "%%writefile ./.zenodorc\n",
    "[ZENODO]\n",
    "token = \n",
    "\n",
    "[SANDBOX]\n",
    "token = "
   ]
  },
  {
   "cell_type": "markdown",
   "metadata": {},
   "source": [
    "---\n",
    "**Note**\n",
    "\n",
    "If you do not know how to create an authentication token, refer to the [documentation](https://molssi.github.io/zenopy/howtos/client/cli_token.html).\n",
    "\n",
    "---"
   ]
  },
  {
   "cell_type": "markdown",
   "metadata": {},
   "source": [
    "The config file you just created is going to be read by the ``zenopy`` client object to allow you access your personal Zenodo depositions."
   ]
  },
  {
   "cell_type": "markdown",
   "metadata": {},
   "source": [
    "### **Initialize the client**"
   ]
  },
  {
   "cell_type": "markdown",
   "metadata": {},
   "source": [
    "The next step is to import the ``zenopy`` package"
   ]
  },
  {
   "cell_type": "code",
   "execution_count": null,
   "metadata": {},
   "outputs": [],
   "source": [
    "import zenopy"
   ]
  },
  {
   "cell_type": "markdown",
   "metadata": {},
   "source": [
    "Then, call the ``zenopy``'s client constructor and tell it where the config file is"
   ]
  },
  {
   "cell_type": "code",
   "execution_count": null,
   "metadata": {},
   "outputs": [],
   "source": [
    "cli = zenopy.Zenodo(config_file_path=\"./.zenodorc\", use_sandbox=True)"
   ]
  },
  {
   "cell_type": "markdown",
   "metadata": {},
   "source": [
    "---\n",
    "**Note**\n",
    "\n",
    "Change ``use_sandbox`` to ``False`` if you are using a token from your [Zenodo](https://zenodo.org) account (instead of one from the [Zenodo Sandbox](https://sandbox.zenodo.org))\n",
    "\n",
    "---"
   ]
  },
  {
   "cell_type": "markdown",
   "metadata": {},
   "source": [
    "Great. Now, the ``zenopy`` client is connected to your Zenodo account server and is ready to interact with it."
   ]
  },
  {
   "cell_type": "markdown",
   "metadata": {},
   "source": [
    "### **Initialize a deposition object**"
   ]
  },
  {
   "cell_type": "markdown",
   "metadata": {},
   "source": [
    "In order to work with the depositions, you need to create an instance of the ``_Depositions`` class"
   ]
  },
  {
   "cell_type": "code",
   "execution_count": null,
   "metadata": {},
   "outputs": [],
   "source": [
    "depo_obj = cli.init_deposition()\n",
    "depo_obj"
   ]
  },
  {
   "cell_type": "markdown",
   "metadata": {},
   "source": [
    "### **Create a Deposition draft**"
   ]
  },
  {
   "cell_type": "markdown",
   "metadata": {},
   "source": [
    "Now, you can use the **depo_obj** to create a new deposition draft in your Zenodo account and get a handle to it"
   ]
  },
  {
   "cell_type": "code",
   "execution_count": null,
   "metadata": {},
   "outputs": [],
   "source": [
    "my_depo = depo_obj.create_deposition()\n",
    "my_depo"
   ]
  },
  {
   "cell_type": "markdown",
   "metadata": {},
   "source": [
    "Nice. Let's use the deposition handle (**my_depo**) to check its content via its ``data`` attribute"
   ]
  },
  {
   "cell_type": "code",
   "execution_count": null,
   "metadata": {},
   "outputs": [],
   "source": [
    "my_depo.data"
   ]
  },
  {
   "cell_type": "markdown",
   "metadata": {},
   "source": [
    "Upon construction, each deposition is provided with a unique DOI and an ID. Let's print them out here"
   ]
  },
  {
   "cell_type": "code",
   "execution_count": null,
   "metadata": {},
   "outputs": [],
   "source": [
    "print(\"Deposition ID:  \" , my_depo._id)\n",
    "print(\"Deposition DOI: \", my_depo.doi)"
   ]
  },
  {
   "cell_type": "markdown",
   "metadata": {},
   "source": [
    "### **List all Deposition drafts**"
   ]
  },
  {
   "cell_type": "markdown",
   "metadata": {},
   "source": [
    "Let us now verify that the deposition ``draft`` is indeed created in our Zenodo account on the remote Zenodo server as well"
   ]
  },
  {
   "cell_type": "code",
   "execution_count": null,
   "metadata": {},
   "outputs": [],
   "source": [
    "depo_list = depo_obj.list_depositions(status=\"draft\")\n",
    "depo_list"
   ]
  },
  {
   "cell_type": "code",
   "execution_count": null,
   "metadata": {},
   "outputs": [],
   "source": [
    "depo_list[0]._id"
   ]
  },
  {
   "cell_type": "markdown",
   "metadata": {},
   "source": [
    "### **Update your Deposition**"
   ]
  },
  {
   "cell_type": "markdown",
   "metadata": {},
   "source": [
    "In order to update the required contents of our deposition, we can use the ``update_deposition()`` function as shown below"
   ]
  },
  {
   "cell_type": "code",
   "execution_count": null,
   "metadata": {},
   "outputs": [],
   "source": [
    "my_updated_depo = depo_obj.update_deposition(\n",
    "    id_=my_depo._id,\n",
    "    upload_type=\"dataset\",\n",
    "    title=\"My new dataset!\",\n",
    "    creators=[{\"name\":\"Mostafanejad, Sina\"}],\n",
    "    access_right=\"embargoed\",\n",
    "    embargo_date=\"2023-08-20\",\n",
    "    license=\"cc-by\",\n",
    "    description=\"The description of my dataset.\"\n",
    "    )\n",
    "my_updated_depo.data"
   ]
  },
  {
   "cell_type": "markdown",
   "metadata": {},
   "source": [
    "### **Delete a Deposition**"
   ]
  },
  {
   "cell_type": "markdown",
   "metadata": {},
   "source": [
    "Time to delete your deposition draft and clean up the account"
   ]
  },
  {
   "cell_type": "code",
   "execution_count": null,
   "metadata": {},
   "outputs": [],
   "source": [
    "depo_obj.delete_deposition(id_=my_depo._id)"
   ]
  }
 ],
 "metadata": {
  "kernelspec": {
   "display_name": "Python 3.6.9 64-bit",
   "language": "python",
   "name": "python3"
  },
  "language_info": {
   "codemirror_mode": {
    "name": "ipython",
    "version": 3
   },
   "file_extension": ".py",
   "mimetype": "text/x-python",
   "name": "python",
   "nbconvert_exporter": "python",
   "pygments_lexer": "ipython3",
   "version": "3.6.9"
  },
  "orig_nbformat": 4,
  "vscode": {
   "interpreter": {
    "hash": "31f2aee4e71d21fbe5cf8b01ff0e069b9275f58929596ceb00d14d90e3e16cd6"
   }
  }
 },
 "nbformat": 4,
 "nbformat_minor": 2
}
