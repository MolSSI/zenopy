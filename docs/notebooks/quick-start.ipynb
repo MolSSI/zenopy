{
 "cells": [
  {
   "cell_type": "markdown",
   "metadata": {},
   "source": [
    "In this quick-start guide, we demonstrate how you can use ``zenopy`` to create\n",
    "depositions, edit or discard them. For more tutorials, see the [documentation](https://molssi.github.io/zenopy)."
   ]
  },
  {
   "cell_type": "markdown",
   "metadata": {},
   "source": [
    "### Create a config file"
   ]
  },
  {
   "cell_type": "markdown",
   "metadata": {},
   "source": [
    "When you want to use ``zenopy`` for the first time, you need to give it access to your Zenodo (Sandbox) account. The first step is to store your authentication token(s) in a config file. You can create a new text file (say, **.zenodorc**) in the current directory and store our token in it as shown below"
   ]
  },
  {
   "cell_type": "code",
   "execution_count": 9,
   "metadata": {},
   "outputs": [
    {
     "name": "stdout",
     "output_type": "stream",
     "text": [
      "Overwriting ./.zenodorc\n"
     ]
    }
   ],
   "source": [
    "%%writefile ./.zenodorc\n",
    "[ZENODO]\n",
    "token = \n",
    "\n",
    "[SANDBOX]\n",
    "token = "
   ]
  },
  {
   "cell_type": "markdown",
   "metadata": {},
   "source": [
    "This file is going to be read by the ``zenopy`` client object to allow you access your personal Zenodo depositions."
   ]
  },
  {
   "cell_type": "markdown",
   "metadata": {},
   "source": [
    "### Initialize the client"
   ]
  },
  {
   "cell_type": "markdown",
   "metadata": {},
   "source": [
    "The next step is to import the ``zenopy`` package"
   ]
  },
  {
   "cell_type": "code",
   "execution_count": 10,
   "metadata": {},
   "outputs": [],
   "source": [
    "import zenopy"
   ]
  },
  {
   "cell_type": "markdown",
   "metadata": {},
   "source": [
    "Then, call the ``zenopy``'s client constructor and tell it where the config file is"
   ]
  },
  {
   "cell_type": "code",
   "execution_count": 11,
   "metadata": {},
   "outputs": [],
   "source": [
    "cli = zenopy.Zenodo(config_file_path=\"./.zenodorc\", use_sandbox=True)"
   ]
  },
  {
   "cell_type": "markdown",
   "metadata": {},
   "source": [
    "Great. Now, the ``zenopy`` client is connected to your Zenodo account server and is ready to interact with it."
   ]
  },
  {
   "cell_type": "markdown",
   "metadata": {},
   "source": [
    "### Initialize a deposition object"
   ]
  },
  {
   "cell_type": "markdown",
   "metadata": {},
   "source": [
    "In order to work with the depositions, you need to create an instance of the ``_Depositions`` class"
   ]
  },
  {
   "cell_type": "code",
   "execution_count": 13,
   "metadata": {},
   "outputs": [
    {
     "data": {
      "text/plain": [
       "<zenopy.depositions._Depositions at 0x7fc247bf4700>"
      ]
     },
     "execution_count": 13,
     "metadata": {},
     "output_type": "execute_result"
    }
   ],
   "source": [
    "depo_obj = cli.init_deposition()\n",
    "depo_obj"
   ]
  },
  {
   "cell_type": "markdown",
   "metadata": {},
   "source": [
    "### Create a Deposition draft"
   ]
  },
  {
   "cell_type": "markdown",
   "metadata": {},
   "source": [
    "Now, you can use the **depo_obj** to create a new deposition draft in your Zenodo account and get a handle to it"
   ]
  },
  {
   "cell_type": "code",
   "execution_count": 14,
   "metadata": {},
   "outputs": [
    {
     "data": {
      "text/plain": [
       "<zenopy.record.Record at 0x7fc25c11bac0>"
      ]
     },
     "execution_count": 14,
     "metadata": {},
     "output_type": "execute_result"
    }
   ],
   "source": [
    "my_depo = depo_obj.create_deposition()\n",
    "my_depo"
   ]
  },
  {
   "cell_type": "markdown",
   "metadata": {},
   "source": [
    "Nice. Let's use the deposition handle (**my_depo**) to check its content via its ``data`` attribute"
   ]
  },
  {
   "cell_type": "code",
   "execution_count": 15,
   "metadata": {},
   "outputs": [
    {
     "data": {
      "text/plain": [
       "{'conceptrecid': '1123577',\n",
       " 'created': '2022-10-27T13:51:04.643203+00:00',\n",
       " 'files': [],\n",
       " 'id': 1123578,\n",
       " 'links': {'bucket': 'https://sandbox.zenodo.org/api/files/de179a03-7226-4022-9203-c9575ffa151f',\n",
       "  'discard': 'https://sandbox.zenodo.org/api/deposit/depositions/1123578/actions/discard',\n",
       "  'edit': 'https://sandbox.zenodo.org/api/deposit/depositions/1123578/actions/edit',\n",
       "  'files': 'https://sandbox.zenodo.org/api/deposit/depositions/1123578/files',\n",
       "  'html': 'https://sandbox.zenodo.org/deposit/1123578',\n",
       "  'latest_draft': 'https://sandbox.zenodo.org/api/deposit/depositions/1123578',\n",
       "  'latest_draft_html': 'https://sandbox.zenodo.org/deposit/1123578',\n",
       "  'publish': 'https://sandbox.zenodo.org/api/deposit/depositions/1123578/actions/publish',\n",
       "  'self': 'https://sandbox.zenodo.org/api/deposit/depositions/1123578'},\n",
       " 'metadata': {'prereserve_doi': {'doi': '10.5072/zenodo.1123578',\n",
       "   'recid': 1123578}},\n",
       " 'modified': '2022-10-27T13:51:04.643214+00:00',\n",
       " 'owner': 133162,\n",
       " 'record_id': 1123578,\n",
       " 'state': 'unsubmitted',\n",
       " 'submitted': False,\n",
       " 'title': ''}"
      ]
     },
     "execution_count": 15,
     "metadata": {},
     "output_type": "execute_result"
    }
   ],
   "source": [
    "my_depo.data"
   ]
  },
  {
   "cell_type": "markdown",
   "metadata": {},
   "source": [
    "Upon construction, each deposition is provided with a unique DOI and an ID. Let's print them out here"
   ]
  },
  {
   "cell_type": "code",
   "execution_count": 18,
   "metadata": {},
   "outputs": [
    {
     "name": "stdout",
     "output_type": "stream",
     "text": [
      "Deposition ID:  1123578\n",
      "Deposition DOI:  10.5072/zenodo.1123578\n"
     ]
    }
   ],
   "source": [
    "print(\"Deposition ID: \" , my_depo._id)\n",
    "print(\"Deposition DOI: \", my_depo.doi)"
   ]
  },
  {
   "cell_type": "markdown",
   "metadata": {},
   "source": [
    "### List all Deposition drafts (using status argument)"
   ]
  },
  {
   "cell_type": "markdown",
   "metadata": {},
   "source": [
    "Let us now verify that the deposition ``draft`` is indeed created in our Zenodo account on the remote Zenodo server as well"
   ]
  },
  {
   "cell_type": "code",
   "execution_count": 19,
   "metadata": {},
   "outputs": [
    {
     "data": {
      "text/plain": [
       "[<zenopy.record.Record at 0x7fc25c11a500>]"
      ]
     },
     "execution_count": 19,
     "metadata": {},
     "output_type": "execute_result"
    }
   ],
   "source": [
    "depo_list = depo_obj.list_depositions(status=\"draft\")\n",
    "depo_list"
   ]
  },
  {
   "cell_type": "code",
   "execution_count": 20,
   "metadata": {},
   "outputs": [
    {
     "data": {
      "text/plain": [
       "1123578"
      ]
     },
     "execution_count": 20,
     "metadata": {},
     "output_type": "execute_result"
    }
   ],
   "source": [
    "depo_list[0]._id"
   ]
  },
  {
   "cell_type": "markdown",
   "metadata": {},
   "source": [
    "### List all published Depositions (using Elastic Search)"
   ]
  },
  {
   "cell_type": "markdown",
   "metadata": {},
   "source": [
    "If we try to list ``published`` depositions, however, we will get a blank list"
   ]
  },
  {
   "cell_type": "code",
   "execution_count": 22,
   "metadata": {},
   "outputs": [
    {
     "data": {
      "text/plain": [
       "[]"
      ]
     },
     "execution_count": 22,
     "metadata": {},
     "output_type": "execute_result"
    }
   ],
   "source": [
    "depo_list = depo_obj.list_depositions(query='resource_type.type:publication')\n",
    "depo_list"
   ]
  },
  {
   "cell_type": "markdown",
   "metadata": {},
   "source": [
    "### Update your Deposition"
   ]
  },
  {
   "cell_type": "markdown",
   "metadata": {},
   "source": [
    "In order to update the required contents of our deposition, we can use the ``update_deposition()`` function as shown below"
   ]
  },
  {
   "cell_type": "code",
   "execution_count": 26,
   "metadata": {},
   "outputs": [
    {
     "data": {
      "text/plain": [
       "{'conceptrecid': '1123577',\n",
       " 'created': '2022-10-27T13:51:04.643203+00:00',\n",
       " 'doi': '',\n",
       " 'doi_url': 'https://doi.org/',\n",
       " 'files': [],\n",
       " 'id': 1123578,\n",
       " 'links': {'bucket': 'https://sandbox.zenodo.org/api/files/de179a03-7226-4022-9203-c9575ffa151f',\n",
       "  'discard': 'https://sandbox.zenodo.org/api/deposit/depositions/1123578/actions/discard',\n",
       "  'edit': 'https://sandbox.zenodo.org/api/deposit/depositions/1123578/actions/edit',\n",
       "  'files': 'https://sandbox.zenodo.org/api/deposit/depositions/1123578/files',\n",
       "  'html': 'https://sandbox.zenodo.org/deposit/1123578',\n",
       "  'latest_draft': 'https://sandbox.zenodo.org/api/deposit/depositions/1123578',\n",
       "  'latest_draft_html': 'https://sandbox.zenodo.org/deposit/1123578',\n",
       "  'newversion': 'https://sandbox.zenodo.org/api/deposit/depositions/1123578/actions/newversion',\n",
       "  'publish': 'https://sandbox.zenodo.org/api/deposit/depositions/1123578/actions/publish',\n",
       "  'registerconceptdoi': 'https://sandbox.zenodo.org/api/deposit/depositions/1123578/actions/registerconceptdoi',\n",
       "  'self': 'https://sandbox.zenodo.org/api/deposit/depositions/1123578'},\n",
       " 'metadata': {'access_right': 'embargoed',\n",
       "  'creators': [{'name': 'Mostafanejad, Sina'}],\n",
       "  'description': 'The description of my dataset.',\n",
       "  'doi': '',\n",
       "  'embargo_date': '2023-08-20',\n",
       "  'license': 'CC-BY-4.0',\n",
       "  'prereserve_doi': {'doi': '10.5072/zenodo.1123578', 'recid': 1123578},\n",
       "  'publication_date': '2022-10-27',\n",
       "  'title': 'My new dataset!',\n",
       "  'upload_type': 'dataset'},\n",
       " 'modified': '2022-10-27T14:07:40.176794+00:00',\n",
       " 'owner': 133162,\n",
       " 'record_id': 1123578,\n",
       " 'state': 'unsubmitted',\n",
       " 'submitted': False,\n",
       " 'title': 'My new dataset!'}"
      ]
     },
     "execution_count": 26,
     "metadata": {},
     "output_type": "execute_result"
    }
   ],
   "source": [
    "my_updated_depo = depo_obj.update_deposition(\n",
    "    id_=my_depo._id,\n",
    "    upload_type=\"dataset\",\n",
    "    title=\"My new dataset!\",\n",
    "    creators=[{\"name\":\"Mostafanejad, Sina\"}],\n",
    "    access_right=\"embargoed\",\n",
    "    embargo_date=\"2023-08-20\",\n",
    "    license=\"cc-by\",\n",
    "    description=\"The description of my dataset.\"\n",
    "    )\n",
    "my_updated_depo.data"
   ]
  },
  {
   "cell_type": "markdown",
   "metadata": {},
   "source": [
    "### Delete a Deposition"
   ]
  },
  {
   "cell_type": "code",
   "execution_count": 27,
   "metadata": {},
   "outputs": [],
   "source": [
    "depo_obj.delete_deposition(id_=my_depo._id)"
   ]
  }
 ],
 "metadata": {
  "kernelspec": {
   "display_name": "Python 3.10.6 ('qs')",
   "language": "python",
   "name": "python3"
  },
  "language_info": {
   "codemirror_mode": {
    "name": "ipython",
    "version": 3
   },
   "file_extension": ".py",
   "mimetype": "text/x-python",
   "name": "python",
   "nbconvert_exporter": "python",
   "pygments_lexer": "ipython3",
   "version": "3.10.6"
  },
  "orig_nbformat": 4,
  "vscode": {
   "interpreter": {
    "hash": "8e47715d4fb82150a92e0782a0e18536c25e871f18d36b6c8bf5c43e3d0274bd"
   }
  }
 },
 "nbformat": 4,
 "nbformat_minor": 2
}
