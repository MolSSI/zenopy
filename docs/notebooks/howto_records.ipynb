{
 "cells": [
  {
   "cell_type": "markdown",
   "metadata": {},
   "source": [
    "---\n",
    "**Execute this tutorial in Binder** [![Binder](https://mybinder.org/badge_logo.svg)](https://mybinder.org/v2/gh/MolSSI/zenopy/5a28d6babe6d197bfd3725f0b207065789fc0a9a?urlpath=lab%2Ftree%2Fdocs%2Fnotebooks%2Fquick-start.ipynb)\n",
    "\n",
    "---"
   ]
  },
  {
   "cell_type": "markdown",
   "metadata": {},
   "source": [
    "This guide demonstrates how you can use ``zenopy`` to search through Zenodo's public records and\n",
    "retrieve individual records from those searches. \n",
    "For more tutorials, see the [documentation](https://molssi.github.io/zenopy)."
   ]
  },
  {
   "cell_type": "markdown",
   "metadata": {},
   "source": [
    "### **Create a config file**"
   ]
  },
  {
   "cell_type": "markdown",
   "metadata": {},
   "source": [
    "---\n",
    "**Note**\n",
    "\n",
    "This section is not required for performing search operations \n",
    "through the Zenodo public records. However, Zenodo \n",
    "[recommends](https://developers.zenodo.org/#authentication) \n",
    "all API requests be authenticated and sent over HTTPS.\n",
    "\n",
    "---"
   ]
  },
  {
   "cell_type": "markdown",
   "metadata": {},
   "source": [
    "When you want to use ``zenopy`` for the first time, you need to give it access to your Zenodo (Sandbox) account. The first step is to store your authentication token(s) in a config file. You can create a new text file (say, **.zenodorc**) in the current directory and store our token in it as shown below"
   ]
  },
  {
   "cell_type": "code",
   "execution_count": null,
   "metadata": {},
   "outputs": [],
   "source": [
    "%%writefile ./.zenodorc\n",
    "[ZENODO]\n",
    "token = \n",
    "\n",
    "[SANDBOX]\n",
    "token = "
   ]
  },
  {
   "cell_type": "markdown",
   "metadata": {},
   "source": [
    "---\n",
    "**Note**\n",
    "\n",
    "If you do not know how to create an authentication token, refer to the [documentation](https://molssi.github.io/zenopy/howtos/client/cli_token.html).\n",
    "\n",
    "---"
   ]
  },
  {
   "cell_type": "markdown",
   "metadata": {},
   "source": [
    "The token stored in the config file will be used by Zenodo servers to authenticate your API requests."
   ]
  },
  {
   "cell_type": "markdown",
   "metadata": {},
   "source": [
    "### **Initialize the client**"
   ]
  },
  {
   "cell_type": "markdown",
   "metadata": {},
   "source": [
    "The next step is to import the ``zenopy`` package"
   ]
  },
  {
   "cell_type": "code",
   "execution_count": 1,
   "metadata": {},
   "outputs": [],
   "source": [
    "import zenopy"
   ]
  },
  {
   "cell_type": "markdown",
   "metadata": {},
   "source": [
    "The recommended way is to call the ``zenopy``'s client constructor and \n",
    "tell it where the config file is"
   ]
  },
  {
   "cell_type": "code",
   "execution_count": null,
   "metadata": {},
   "outputs": [],
   "source": [
    "cli = zenopy.Zenodo(config_file_path=\"./.zenodorc\", use_sandbox=False)"
   ]
  },
  {
   "cell_type": "markdown",
   "metadata": {},
   "source": [
    "However, because we plan to use ``zenopy`` only for searching through Zenodo's \n",
    "public (and published) records in this tutorial, we can create the client object\n",
    "without an authentication token (an empty string)."
   ]
  },
  {
   "cell_type": "code",
   "execution_count": 2,
   "metadata": {},
   "outputs": [
    {
     "name": "stderr",
     "output_type": "stream",
     "text": [
      "WARNING: The config file (~/.zenodorc) is found.\n"
     ]
    }
   ],
   "source": [
    "cli = zenopy.Zenodo(token=\"\", use_sandbox=False)"
   ]
  },
  {
   "cell_type": "markdown",
   "metadata": {},
   "source": [
    "---\n",
    "**Note**\n",
    "\n",
    "Do not forget to set the ``use_sandbox`` argument to ``False``.\n",
    "Otherwise, you will be searching through Zenodo Sandbox's servers.\n",
    "\n",
    "---"
   ]
  },
  {
   "cell_type": "markdown",
   "metadata": {},
   "source": [
    "Great. Now, the ``zenopy`` client is connected to the Zenodo servers\n",
    "and is ready to be used to search through their records."
   ]
  },
  {
   "cell_type": "markdown",
   "metadata": {},
   "source": [
    "### **Search Through Zenodo’s public records**"
   ]
  },
  {
   "cell_type": "markdown",
   "metadata": {},
   "source": [
    "The client object allows us to create an instance of the ``_Records`` class"
   ]
  },
  {
   "cell_type": "code",
   "execution_count": 3,
   "metadata": {},
   "outputs": [
    {
     "data": {
      "text/plain": [
       "<zenopy.records._Records at 0x7f9ca868ad10>"
      ]
     },
     "execution_count": 3,
     "metadata": {},
     "output_type": "execute_result"
    }
   ],
   "source": [
    "rec_obj = cli.init_records()\n",
    "rec_obj"
   ]
  },
  {
   "cell_type": "markdown",
   "metadata": {},
   "source": [
    "Now, you can call the **rec_obj**'s ``list_records()`` to search \n",
    "through Zenodo's public records."
   ]
  },
  {
   "cell_type": "code",
   "execution_count": 22,
   "metadata": {},
   "outputs": [
    {
     "name": "stderr",
     "output_type": "stream",
     "text": [
      "The value of 'content_type' argument is None.\n",
      "ZenoPy will adopt JSON encoding.\n",
      "\n",
      "The value of 'status' argument is None.\n",
      "ZenoPy will search for 'published' record.\n",
      "\n",
      "The value of 'sort' argument is None.\n",
      "ZenoPy will sort the search results according to 'bestmatch' sort option.\n",
      "\n"
     ]
    },
    {
     "data": {
      "text/plain": [
       "[<zenopy.record.Record at 0x7f9c917ee3b0>,\n",
       " <zenopy.record.Record at 0x7f9c917ee0b0>,\n",
       " <zenopy.record.Record at 0x7f9c917edba0>,\n",
       " <zenopy.record.Record at 0x7f9c917ee050>,\n",
       " <zenopy.record.Record at 0x7f9c917edfc0>,\n",
       " <zenopy.record.Record at 0x7f9c917edd50>,\n",
       " <zenopy.record.Record at 0x7f9c917ed8a0>,\n",
       " <zenopy.record.Record at 0x7f9c917ec370>,\n",
       " <zenopy.record.Record at 0x7f9c917edff0>,\n",
       " <zenopy.record.Record at 0x7f9c917edcf0>]"
      ]
     },
     "execution_count": 22,
     "metadata": {},
     "output_type": "execute_result"
    }
   ],
   "source": [
    "rec_list = rec_obj.list_records()\n",
    "rec_list"
   ]
  },
  {
   "cell_type": "markdown",
   "metadata": {},
   "source": [
    "By default, the ``list_records()`` returns a list of 10 public records.\n",
    "You can change the number of records fetched by passing the ``size`` argument.\n",
    "\n",
    "Before moving forward, let's create a utility function that prints the document\n",
    "indices in the record list and their corresponding titles. This will save us\n",
    "a little bit of time later when we want to inspect the results of other search\n",
    "queries."
   ]
  },
  {
   "cell_type": "code",
   "execution_count": 14,
   "metadata": {},
   "outputs": [],
   "source": [
    "def print_record_titles(record_list: list[zenopy.record.Record] = None) -> None:\n",
    "    if record_list is None:\n",
    "        raise RuntimeError(\"The 'record_list' argument cannot be None.\")\n",
    "    for idx, rec_idx in enumerate(record_list):\n",
    "        print(idx, rec_idx.title)"
   ]
  },
  {
   "cell_type": "markdown",
   "metadata": {},
   "source": [
    "Nice. Now, let's try our utility function on the record list we just\n",
    "obtained"
   ]
  },
  {
   "cell_type": "code",
   "execution_count": 23,
   "metadata": {},
   "outputs": [
    {
     "name": "stdout",
     "output_type": "stream",
     "text": [
      "0 Data from: Pollen specialization is associated with later phenology in Osmia mason bees  (Hymenoptera: Megachilidae)\n",
      "1 MillionConcepts/dustgoggles: v0.6.0\n",
      "2 ТАКРОРИЙ ЭКИНЛАР ЭКИШДА ҲАМКОР ЭКИНЛАРНИНГ АҲАМИЯТИ\n",
      "3 \"Islimiy kompozitsiya tuzish\"\n",
      "4 Towards collective, evidence-based investments in open infrastructure\n",
      "5 LEGOS-A\n",
      "6 APĂRAREA DREPTULUI DE PROPRIETATE INDUSTRIALĂ PRIN MIJLOACE DE DREPT PENAL\n",
      "7 Dataset to submitted manuscript \"Trans-cis isomerization kinetics of cyanine dyes reports on the folding states of exogeneous RNA G-quadruplexes in live cells\"\n",
      "8 Estudo da UFSCar analisa células de um tipo agressivo de câncer de mama\n",
      "9 globalbioticinteractions/globalbioticinteractions: v0.24.7\n"
     ]
    }
   ],
   "source": [
    "print_record_titles(record_list=rec_list)"
   ]
  },
  {
   "cell_type": "markdown",
   "metadata": {},
   "source": [
    "As you can see, a general search will give us a random set of records that might not be\n",
    "interesting to our research. Let's narrow our search down and focus on the public \n",
    "records that are available in the \n",
    "[MolSSI Zenodo Community](https://zenodo.org/communities/molssi/?page=1&size=20)."
   ]
  },
  {
   "cell_type": "code",
   "execution_count": 8,
   "metadata": {},
   "outputs": [
    {
     "name": "stderr",
     "output_type": "stream",
     "text": [
      "The value of 'content_type' argument is None.\n",
      "ZenoPy will adopt JSON encoding.\n",
      "\n",
      "The value of 'status' argument is None.\n",
      "ZenoPy will search for 'published' record.\n",
      "\n",
      "The value of 'sort' argument is None.\n",
      "ZenoPy will sort the search results according to 'bestmatch' sort option.\n",
      "\n"
     ]
    }
   ],
   "source": [
    "molssi_rec_list = rec_obj.list_records(communities=\"molssi\")"
   ]
  },
  {
   "cell_type": "markdown",
   "metadata": {},
   "source": [
    "This list is a sample of scientific data that have become available by\n",
    "the members of the computational molecular sciences community. Let's inspect\n",
    "the list using our ``print_record_titles()`` utility function."
   ]
  },
  {
   "cell_type": "code",
   "execution_count": 16,
   "metadata": {},
   "outputs": [
    {
     "name": "stdout",
     "output_type": "stream",
     "text": [
      "0 SEAMM: Simulation Environment for Atomistic and Molecular Modeling\n",
      "1 Plug-in for SEAMM for building fluid systems with PACKMOL.\n",
      "2 MolSSI Guidelines on APOD Cyclic Parallelization Strategy\n",
      "3 Plug-in for SEAMM to allow custom python scripts in flowcharts\n",
      "4 DES5M\n",
      "5 DESS66 and DESS66x8\n",
      "6 DES370K\n",
      "7 DES15K\n",
      "8 Plug-in for SEAMM to create structures from SMILES\n",
      "9 MolSSI Formatting Guidelines for Machine Learning Products\n"
     ]
    }
   ],
   "source": [
    "print_record_titles(molssi_rec_list)"
   ]
  },
  {
   "cell_type": "markdown",
   "metadata": {},
   "source": [
    "### **Retrieving individual records**"
   ]
  },
  {
   "cell_type": "markdown",
   "metadata": {},
   "source": [
    "Sometimes, we may be interested in retrieving the individual \n",
    "records from the results of our previous search and inspect their\n",
    "metadata more closely. To do so, we need the unique record ID\n",
    "that can be extracted from records' ``_id`` attribute"
   ]
  },
  {
   "cell_type": "code",
   "execution_count": 18,
   "metadata": {},
   "outputs": [],
   "source": [
    "des5m_id = molssi_rec_list[4]._id"
   ]
  },
  {
   "cell_type": "markdown",
   "metadata": {},
   "source": [
    "Now, we can fetch the record object corresponding to this ID\n",
    "using the ``retrieve_record()`` as shown below"
   ]
  },
  {
   "cell_type": "code",
   "execution_count": 25,
   "metadata": {},
   "outputs": [],
   "source": [
    "rec_des5m = rec_obj.retrieve_record(id_=des5m_id)"
   ]
  },
  {
   "cell_type": "markdown",
   "metadata": {},
   "source": [
    "We can now access all metadata via record's ``data`` attribute"
   ]
  },
  {
   "cell_type": "code",
   "execution_count": 26,
   "metadata": {},
   "outputs": [
    {
     "data": {
      "text/plain": [
       "{'conceptdoi': '10.5281/zenodo.5706001',\n",
       " 'conceptrecid': '5706001',\n",
       " 'created': '2021-11-16T18:22:07.847558+00:00',\n",
       " 'doi': '10.5281/zenodo.5706002',\n",
       " 'files': [{'bucket': '58116936-8b26-47fa-b9b5-8b3960779662',\n",
       "   'checksum': 'md5:50d11239119f787c8137a78973c932e6',\n",
       "   'key': 'DESS5M.zip',\n",
       "   'links': {'self': 'https://zenodo.org/api/files/58116936-8b26-47fa-b9b5-8b3960779662/DESS5M.zip'},\n",
       "   'size': 3825454761,\n",
       "   'type': 'zip'}],\n",
       " 'id': 5706002,\n",
       " 'links': {'badge': 'https://zenodo.org/badge/doi/10.5281/zenodo.5706002.svg',\n",
       "  'bucket': 'https://zenodo.org/api/files/58116936-8b26-47fa-b9b5-8b3960779662',\n",
       "  'conceptbadge': 'https://zenodo.org/badge/doi/10.5281/zenodo.5706001.svg',\n",
       "  'conceptdoi': 'https://doi.org/10.5281/zenodo.5706001',\n",
       "  'doi': 'https://doi.org/10.5281/zenodo.5706002',\n",
       "  'html': 'https://zenodo.org/record/5706002',\n",
       "  'latest': 'https://zenodo.org/api/records/5706002',\n",
       "  'latest_html': 'https://zenodo.org/record/5706002',\n",
       "  'self': 'https://zenodo.org/api/records/5706002'},\n",
       " 'metadata': {'access_right': 'open',\n",
       "  'access_right_category': 'success',\n",
       "  'communities': [{'id': 'molssi'}],\n",
       "  'creators': [{'affiliation': 'D. E. Shaw Research',\n",
       "    'name': 'Donchev, Alexander G'},\n",
       "   {'affiliation': 'D. E. Shaw Research', 'name': 'Taube, Andrew G'},\n",
       "   {'affiliation': 'D. E. Shaw Research', 'name': 'Decolvenaere, Elizabeth'},\n",
       "   {'affiliation': 'D. E. Shaw Research', 'name': 'Hargus, Cory'},\n",
       "   {'affiliation': 'D. E. Shaw Research', 'name': 'McGibbon, Robert T'},\n",
       "   {'affiliation': 'D. E. Shaw Research', 'name': 'Law, Ka-Hei'},\n",
       "   {'affiliation': 'D. E. Shaw Research', 'name': 'Gregersen, Brent A'},\n",
       "   {'affiliation': 'D. E. Shaw Research', 'name': 'Li Je-Leun'},\n",
       "   {'affiliation': 'D. E. Shaw Research', 'name': 'Palmo, Kim'},\n",
       "   {'affiliation': 'D. E. Shaw Research', 'name': 'Siva. Karthik'},\n",
       "   {'affiliation': 'D. E. Shaw Research', 'name': 'Bergdorf, Michael'},\n",
       "   {'affiliation': 'D. E. Shaw Research', 'name': 'Klepeis. John L'},\n",
       "   {'affiliation': 'D. E. Shaw Research', 'name': 'Shaw, David E'}],\n",
       "  'description': '<p>DESRES Data Sets (DES5M)<br>\\n=========================================<br>\\nPlease see the original paper at https://doi.org/10.1038/s41597-021-00833-x for<br>\\nmore information about this dataset.</p>\\n\\n<p>This package contains a datasets described by Donchev et al. [1]: DES5M, It<br>\\nis presented as a CSV (DES5M.csv) and .mol files<br>\\n(geometries/&lt;system_id&gt;/DES5M_&lt;geom_id&gt;.mol). Also included is a metadata<br>\\nfile DES5M_meta.csv, which contains a set of long-form column descriptions<br>\\nreplicating those in [1], as well as data types and units (when applicable) for<br>\\neach column.</p>\\n\\n<p>Manifest<br>\\n--------<br>\\n- DES5M.csv &nbsp; &nbsp; &nbsp; : Extended dataset, containing interaction energies<br>\\n&nbsp; &nbsp; &nbsp; &nbsp; &nbsp; &nbsp; &nbsp; &nbsp; &nbsp; &nbsp; calculated using SNS-MP2[2], MP2, HF, and SAPT0, as well as<br>\\n&nbsp; &nbsp; &nbsp; &nbsp; &nbsp; &nbsp; &nbsp; &nbsp; &nbsp; &nbsp; dimer geometries.</p>\\n\\n<p>- DES5M_meta.csv &nbsp;: Long-form descriptions of the columns in DES5M, as well<br>\\n&nbsp; &nbsp; &nbsp; &nbsp; &nbsp; &nbsp; &nbsp; &nbsp; &nbsp; &nbsp; &nbsp; as datatypes and units (when applicable) for each column</p>\\n\\n<p>- LICENSE.txt &nbsp; &nbsp; : License for using and redistributing the datasets<br>\\n&nbsp; &nbsp; &nbsp; &nbsp; &nbsp; &nbsp; &nbsp; &nbsp; &nbsp; &nbsp; provided.</p>\\n\\n<p>- README.md &nbsp; &nbsp; &nbsp; : This file.</p>\\n\\n<p>Loading the Datset<br>\\n------------------<br>\\nThe datasets are presented as CSVs as a compromise between human-readability,<br>\\nformat uniformity, and parsing speed. While an almost uncountable number of<br>\\npackages exist to read CSV files, we recommend using the python data analysis</p>\\n\\n<p>References<br>\\n----------<br>\\n[1] &nbsp;A. G. Donchev, A. G. Taube, E. Decolvenaere, C. Hargus, R. T. McGibbon,<br>\\n&nbsp; &nbsp; &nbsp; K.-H. Law, B. A. Gregersen, J.-L. Li, K. Palmo, K. Siva, M. Bergdorf,<br>\\n&nbsp; &nbsp; &nbsp; J. L. Klepeis, and D. E. Shaw. &quot;Quantum chemical benchmark database of<br>\\n&nbsp; &nbsp; &nbsp; dimer interaction energies at a &ldquo;gold standard&rdquo; level of accuracy&quot;</p>\\n\\n<p>[2] &nbsp;R. T. McGibbon, A. G. Taube, A. G. Donchev, K. Siva, F. Fernandez, C. Hargus,<br>\\n&nbsp; &nbsp; &nbsp; K.-H. Law, J.L. Klepeis, and D. E. Shaw. &quot;Improving the accuracy of<br>\\n&nbsp; &nbsp; &nbsp; Moller-Plesset perturbation theory with neural networks&quot;</p>\\n\\n<p>[3] &nbsp;M. K. Kesharwani, A. Karton, N. Sylvetsky, J. M. L. Nitai. &quot;The S66<br>\\n&nbsp; &nbsp; &nbsp; non-covalent interactions benchmark reconsidered using explicitly<br>\\n&nbsp; &nbsp; &nbsp; correlated methods near the basis set limit.&quot;</p>\\n\\n<p>License<br>\\n-------<br>\\n```<br>\\n&nbsp; &nbsp; &nbsp; &nbsp; &nbsp; &nbsp; &nbsp; &nbsp; DESRES DATA SETS LICENSE AGREEMENT</p>\\n\\n<p>Copyright 2020, D. E. Shaw Research. All rights reserved.</p>\\n\\n<p>Redistribution and use of electronic structure data released in the DESRES<br>\\nData Sets (DES370K, DES15K, DES5M, DESS66, and DESS66x8) with or without<br>\\nmodification, is permitted provided that the following conditions are met:</p>\\n\\n<p>&nbsp; &nbsp; * Redistributions of the data must retain the above copyright notice,<br>\\n&nbsp; &nbsp; this list of conditions, and the following disclaimer.</p>\\n\\n<p>&nbsp; &nbsp; * Redistributions in binary form must reproduce the above copyright<br>\\n&nbsp; &nbsp; notice, this list of conditions, and the following disclaimer in the<br>\\n&nbsp; &nbsp; documentation and/or other materials provided with the distribution.</p>\\n\\n<p>Neither the name of D. E. Shaw Research nor the names of its contributors may<br>\\nbe used to endorse or promote products derived from this software without<br>\\nspecific prior written permission.</p>\\n\\n<p>THIS SOFTWARE AND DATA ARE PROVIDED BY THE COPYRIGHT HOLDERS AND CONTRIBUTORS<br>\\n&quot;AS IS&quot; AND ANY EXPRESS OR IMPLIED WARRANTIES, INCLUDING, BUT NOT LIMITED TO,<br>\\nTHE IMPLIED WARRANTIES OF MERCHANTABILITY AND FITNESS FOR A PARTICULAR PURPOSE<br>\\nARE DISCLAIMED. IN NO EVENT SHALL THE COPYRIGHT OWNER OR CONTRIBUTORS BE LIABLE<br>\\nFOR ANY DIRECT, INDIRECT, INCIDENTAL, SPECIAL, EXEMPLARY, OR CONSEQUENTIAL<br>\\nDAMAGES (INCLUDING, BUT NOT LIMITED TO, PROCUREMENT OF SUBSTITUTE GOODS OR<br>\\nSERVICES; LOSS OF USE, DATA, OR PROFITS; OR BUSINESS INTERRUPTION) HOWEVER<br>\\nCAUSED AND ON ANY THEORY OF LIABILITY, WHETHER IN CONTRACT, STRICT LIABILITY,<br>\\nOR TORT (INCLUDINGNEGLIGENCE OR OTHERWISE) ARISING IN ANY WAY OUT OF THE USE<br>\\nOF THIS SOFTWARE AND/OR DATA, EVEN IF ADVISED OF THE POSSIBILITY OF SUCH DAMAGE.<br>\\n&nbsp;</p>',\n",
       "  'doi': '10.5281/zenodo.5706002',\n",
       "  'keywords': ['coupled cluster',\n",
       "   'non-covalent interactions',\n",
       "   'MP2',\n",
       "   'CCSD(T)',\n",
       "   'dimers',\n",
       "   'SNS-MP2'],\n",
       "  'language': 'eng',\n",
       "  'license': {'id': 'CC-BY-4.0'},\n",
       "  'publication_date': '2021-02-10',\n",
       "  'related_identifiers': [{'identifier': '10.1038/s41597-021-00833-x',\n",
       "    'relation': 'cites',\n",
       "    'resource_type': 'publication-article',\n",
       "    'scheme': 'doi'},\n",
       "   {'identifier': '10.6084/m9.figshare.c.5070644',\n",
       "    'relation': 'isNewVersionOf',\n",
       "    'resource_type': 'dataset',\n",
       "    'scheme': 'doi'},\n",
       "   {'identifier': '10.1063/1.4986081',\n",
       "    'relation': 'cites',\n",
       "    'resource_type': 'publication-article',\n",
       "    'scheme': 'doi'},\n",
       "   {'identifier': '10.5281/zenodo.5706001',\n",
       "    'relation': 'isVersionOf',\n",
       "    'scheme': 'doi'}],\n",
       "  'relations': {'version': [{'count': 1,\n",
       "     'index': 0,\n",
       "     'is_last': True,\n",
       "     'last_child': {'pid_type': 'recid', 'pid_value': '5706002'},\n",
       "     'parent': {'pid_type': 'recid', 'pid_value': '5706001'}}]},\n",
       "  'resource_type': {'title': 'Dataset', 'type': 'dataset'},\n",
       "  'title': 'DES5M',\n",
       "  'version': '1.0.0'},\n",
       " 'owners': [257713],\n",
       " 'revision': 3,\n",
       " 'stats': {'downloads': 1.0,\n",
       "  'unique_downloads': 1.0,\n",
       "  'unique_views': 37.0,\n",
       "  'version_downloads': 1.0,\n",
       "  'version_unique_downloads': 1.0,\n",
       "  'version_unique_views': 37.0,\n",
       "  'version_views': 40.0,\n",
       "  'version_volume': 3825454761.0,\n",
       "  'views': 40.0,\n",
       "  'volume': 3825454761.0},\n",
       " 'updated': '2021-11-17T01:48:45.697587+00:00'}"
      ]
     },
     "execution_count": 26,
     "metadata": {},
     "output_type": "execute_result"
    }
   ],
   "source": [
    "rec_des5m.data"
   ]
  },
  {
   "cell_type": "markdown",
   "metadata": {},
   "source": [
    "As the resulting information is in JSON format, accessing different\n",
    "fields in the metadata is a convenient task. For example, let's print\n",
    "the list of the authors behind the **DES5M** dataset"
   ]
  },
  {
   "cell_type": "code",
   "execution_count": 33,
   "metadata": {},
   "outputs": [
    {
     "data": {
      "text/plain": [
       "[{'affiliation': 'D. E. Shaw Research', 'name': 'Donchev, Alexander G'},\n",
       " {'affiliation': 'D. E. Shaw Research', 'name': 'Taube, Andrew G'},\n",
       " {'affiliation': 'D. E. Shaw Research', 'name': 'Decolvenaere, Elizabeth'},\n",
       " {'affiliation': 'D. E. Shaw Research', 'name': 'Hargus, Cory'},\n",
       " {'affiliation': 'D. E. Shaw Research', 'name': 'McGibbon, Robert T'},\n",
       " {'affiliation': 'D. E. Shaw Research', 'name': 'Law, Ka-Hei'},\n",
       " {'affiliation': 'D. E. Shaw Research', 'name': 'Gregersen, Brent A'},\n",
       " {'affiliation': 'D. E. Shaw Research', 'name': 'Li Je-Leun'},\n",
       " {'affiliation': 'D. E. Shaw Research', 'name': 'Palmo, Kim'},\n",
       " {'affiliation': 'D. E. Shaw Research', 'name': 'Siva. Karthik'},\n",
       " {'affiliation': 'D. E. Shaw Research', 'name': 'Bergdorf, Michael'},\n",
       " {'affiliation': 'D. E. Shaw Research', 'name': 'Klepeis. John L'},\n",
       " {'affiliation': 'D. E. Shaw Research', 'name': 'Shaw, David E'}]"
      ]
     },
     "execution_count": 33,
     "metadata": {},
     "output_type": "execute_result"
    }
   ],
   "source": [
    "rec_des5m.metadata[\"creators\"]"
   ]
  },
  {
   "cell_type": "code",
   "execution_count": null,
   "metadata": {},
   "outputs": [],
   "source": []
  }
 ],
 "metadata": {
  "kernelspec": {
   "display_name": "Python 3.9.14 ('zen')",
   "language": "python",
   "name": "python3"
  },
  "language_info": {
   "codemirror_mode": {
    "name": "ipython",
    "version": 3
   },
   "file_extension": ".py",
   "mimetype": "text/x-python",
   "name": "python",
   "nbconvert_exporter": "python",
   "pygments_lexer": "ipython3",
   "version": "3.10.7"
  },
  "orig_nbformat": 4,
  "vscode": {
   "interpreter": {
    "hash": "fa979838d4606453796a604d401a3dcfad39a4f96fa323fee76ace6b35df9f6a"
   }
  }
 },
 "nbformat": 4,
 "nbformat_minor": 2
}
