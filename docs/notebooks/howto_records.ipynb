{
 "cells": [
  {
   "cell_type": "markdown",
   "metadata": {},
   "source": [
    "---\n",
    "**Execute this tutorial in Binder** [![Binder](https://mybinder.org/badge_logo.svg)](https://mybinder.org/v2/gh/MolSSI/zenopy/5a28d6babe6d197bfd3725f0b207065789fc0a9a?urlpath=lab%2Ftree%2Fdocs%2Fnotebooks%2Fquick-start.ipynb)\n",
    "\n",
    "---"
   ]
  },
  {
   "cell_type": "markdown",
   "metadata": {},
   "source": [
    "This guide demonstrates how you can use ``zenopy`` to search through Zenodo's public records and\n",
    "retrieve individual records from the search results. \n",
    "For more tutorials, see the [documentation](https://molssi.github.io/zenopy)."
   ]
  },
  {
   "cell_type": "markdown",
   "metadata": {},
   "source": [
    "### **Create a config file**"
   ]
  },
  {
   "cell_type": "markdown",
   "metadata": {},
   "source": [
    "---\n",
    "**Note**\n",
    "\n",
    "Following this section is not required for performing search operations \n",
    "through Zenodo's public records. However, Zenodo \n",
    "[recommends](https://developers.zenodo.org/#authentication) \n",
    "all API requests be authenticated and sent over HTTPS.\n",
    "\n",
    "---"
   ]
  },
  {
   "cell_type": "markdown",
   "metadata": {},
   "source": [
    "When you want to use ``zenopy`` for the first time, you need to give it access to \n",
    "your Zenodo (or Zenodo Sandbox) account. The first step is to store your authentication\n",
    "token(s) in a config file. You can create a new text file (say, **.zenodorc**) in\n",
    "the current directory and store the token in it. The following code cell uses the\n",
    "``%%writefile`` magic function to create the **.zenodorc** config file in the\n",
    "current directory."
   ]
  },
  {
   "cell_type": "code",
   "execution_count": null,
   "metadata": {},
   "outputs": [],
   "source": [
    "%%writefile ./.zenodorc\n",
    "[ZENODO]\n",
    "token = \n",
    "\n",
    "[SANDBOX]\n",
    "token = "
   ]
  },
  {
   "cell_type": "markdown",
   "metadata": {},
   "source": [
    "---\n",
    "**Note**\n",
    "\n",
    "If you do not know how to create an authentication token, refer to the [documentation](https://molssi.github.io/zenopy/howtos/client/cli_token.html).\n",
    "\n",
    "---"
   ]
  },
  {
   "cell_type": "markdown",
   "metadata": {},
   "source": [
    "Copy the token from your Zenodo account and paste it in the **[Zenodo]** section. \n",
    "The token stored in the config file will be used by Zenodo servers to authenticate your API requests."
   ]
  },
  {
   "cell_type": "markdown",
   "metadata": {},
   "source": [
    "### **Initialize the client**"
   ]
  },
  {
   "cell_type": "markdown",
   "metadata": {},
   "source": [
    "The next step is to import the ``zenopy`` package"
   ]
  },
  {
   "cell_type": "code",
   "execution_count": null,
   "metadata": {},
   "outputs": [],
   "source": [
    "import zenopy"
   ]
  },
  {
   "cell_type": "markdown",
   "metadata": {},
   "source": [
    "The recommended way is to call the ``zenopy``'s client constructor and \n",
    "tell it where the config file is"
   ]
  },
  {
   "cell_type": "code",
   "execution_count": null,
   "metadata": {},
   "outputs": [],
   "source": [
    "cli = zenopy.Zenodo(config_file_path=\"./.zenodorc\", use_sandbox=False)"
   ]
  },
  {
   "cell_type": "markdown",
   "metadata": {},
   "source": [
    "However, because we plan to use ``zenopy`` only for searching through Zenodo's \n",
    "public (and published) records in this tutorial, we can create the client object\n",
    "without an authentication token (an empty string)."
   ]
  },
  {
   "cell_type": "code",
   "execution_count": null,
   "metadata": {},
   "outputs": [],
   "source": [
    "cli = zenopy.Zenodo(token=\"\", use_sandbox=False)"
   ]
  },
  {
   "cell_type": "markdown",
   "metadata": {},
   "source": [
    "---\n",
    "**Note**\n",
    "\n",
    "Do not forget to set the ``use_sandbox`` argument to ``False``.\n",
    "Otherwise, you will be searching through Zenodo Sandbox's servers.\n",
    "\n",
    "---"
   ]
  },
  {
   "cell_type": "markdown",
   "metadata": {},
   "source": [
    "Great. Now, the ``zenopy`` client is connected to the Zenodo servers\n",
    "and is ready to be used to search through the records."
   ]
  },
  {
   "cell_type": "markdown",
   "metadata": {},
   "source": [
    "### **Search Through Zenodo’s public records**"
   ]
  },
  {
   "cell_type": "markdown",
   "metadata": {},
   "source": [
    "In order to work with the records, we need to create an instance \n",
    "of the ``_Records`` class"
   ]
  },
  {
   "cell_type": "code",
   "execution_count": null,
   "metadata": {},
   "outputs": [],
   "source": [
    "rec_obj = cli.init_records()\n",
    "rec_obj"
   ]
  },
  {
   "cell_type": "markdown",
   "metadata": {},
   "source": [
    "Now, we can call the **rec_obj**'s ``list_records()`` to search \n",
    "through Zenodo's public records."
   ]
  },
  {
   "cell_type": "code",
   "execution_count": null,
   "metadata": {},
   "outputs": [],
   "source": [
    "rec_list = rec_obj.list_records()\n",
    "rec_list"
   ]
  },
  {
   "cell_type": "markdown",
   "metadata": {},
   "source": [
    "By default, ``list_records()`` returns a list of 10 records.\n",
    "You can change the number of records fetched by passing the ``size`` argument.\n",
    "\n",
    "Before moving forward, let's create a utility function that prints the record indices\n",
    "in the list and their corresponding titles. This will save us a little bit of \n",
    "time later on when we want to inspect the results of other search queries."
   ]
  },
  {
   "cell_type": "code",
   "execution_count": null,
   "metadata": {},
   "outputs": [],
   "source": [
    "def print_record_titles(record_list: list[zenopy.record.Record] = None) -> None:\n",
    "    if record_list is None:\n",
    "        raise TypeError(\"The 'record_list' argument cannot be None.\")\n",
    "    for idx, rec_idx in enumerate(record_list):\n",
    "        print(idx, rec_idx.title)"
   ]
  },
  {
   "cell_type": "markdown",
   "metadata": {},
   "source": [
    "Now, let's try our utility function on the record list we just obtained"
   ]
  },
  {
   "cell_type": "code",
   "execution_count": null,
   "metadata": {},
   "outputs": [],
   "source": [
    "print_record_titles(record_list=rec_list)"
   ]
  },
  {
   "cell_type": "markdown",
   "metadata": {},
   "source": [
    "As you can see, a general search will give us a random set of records that might not be\n",
    "interesting to our research. Let's narrow our search down and focus on the public \n",
    "records that are available in the \n",
    "[MolSSI Zenodo Community](https://zenodo.org/communities/molssi/?page=1&size=20)."
   ]
  },
  {
   "cell_type": "code",
   "execution_count": null,
   "metadata": {},
   "outputs": [],
   "source": [
    "molssi_rec_list = rec_obj.list_records(communities=\"molssi\")"
   ]
  },
  {
   "cell_type": "markdown",
   "metadata": {},
   "source": [
    "This list is a sample of scientific data that have become available by\n",
    "the members of the computational molecular sciences community. Let's inspect\n",
    "the list using our ``print_record_titles()`` utility function."
   ]
  },
  {
   "cell_type": "code",
   "execution_count": null,
   "metadata": {},
   "outputs": [],
   "source": [
    "print_record_titles(molssi_rec_list)"
   ]
  },
  {
   "cell_type": "markdown",
   "metadata": {},
   "source": [
    "### **Retrieving individual records**"
   ]
  },
  {
   "cell_type": "markdown",
   "metadata": {},
   "source": [
    "Sometimes, we may be interested in retrieving individual \n",
    "records from the results of our previous search and inspect their\n",
    "metadata more closely. To do so, we need the unique record ID\n",
    "that can be extracted from records' ``_id`` attribute"
   ]
  },
  {
   "cell_type": "code",
   "execution_count": null,
   "metadata": {},
   "outputs": [],
   "source": [
    "des5m_id = molssi_rec_list[4]._id"
   ]
  },
  {
   "cell_type": "markdown",
   "metadata": {},
   "source": [
    "Now, we can fetch the record object corresponding to this ID\n",
    "using the ``retrieve_record()`` as shown below"
   ]
  },
  {
   "cell_type": "code",
   "execution_count": null,
   "metadata": {},
   "outputs": [],
   "source": [
    "rec_des5m = rec_obj.retrieve_record(id_=des5m_id)"
   ]
  },
  {
   "cell_type": "markdown",
   "metadata": {},
   "source": [
    "We can now access all metadata via record's ``data`` attribute"
   ]
  },
  {
   "cell_type": "code",
   "execution_count": null,
   "metadata": {},
   "outputs": [],
   "source": [
    "rec_des5m.data"
   ]
  },
  {
   "cell_type": "markdown",
   "metadata": {},
   "source": [
    "As the resulting information is in JSON format, accessing different\n",
    "fields in the metadata is a convenient task. For example, let's print\n",
    "the list of the authors behind the **DES5M** dataset"
   ]
  },
  {
   "cell_type": "code",
   "execution_count": null,
   "metadata": {},
   "outputs": [],
   "source": [
    "rec_des5m.metadata[\"creators\"]"
   ]
  }
 ],
 "metadata": {
  "kernelspec": {
   "display_name": "Python 3.10.7 ('zen')",
   "language": "python",
   "name": "python3"
  },
  "language_info": {
   "codemirror_mode": {
    "name": "ipython",
    "version": 3
   },
   "file_extension": ".py",
   "mimetype": "text/x-python",
   "name": "python",
   "nbconvert_exporter": "python",
   "pygments_lexer": "ipython3",
   "version": "3.10.7"
  },
  "orig_nbformat": 4,
  "vscode": {
   "interpreter": {
    "hash": "fa979838d4606453796a604d401a3dcfad39a4f96fa323fee76ace6b35df9f6a"
   }
  }
 },
 "nbformat": 4,
 "nbformat_minor": 2
}
