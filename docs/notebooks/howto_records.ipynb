{
 "cells": [
  {
   "cell_type": "markdown",
   "metadata": {},
   "source": [
    "---\n",
    "**Execute this tutorial in Binder** [![Binder](https://mybinder.org/badge_logo.svg)](https://mybinder.org/v2/gh/MolSSI/zenopy/5a28d6babe6d197bfd3725f0b207065789fc0a9a?urlpath=lab%2Ftree%2Fdocs%2Fnotebooks%2Fquick-start.ipynb)\n",
    "\n",
    "---"
   ]
  },
  {
   "cell_type": "markdown",
   "metadata": {},
   "source": [
    "This guide demonstrates how you can use ``zenopy`` to search through Zenodo's public records and\n",
    "retrieve individual records as well. For more tutorials, see the [documentation](https://molssi.github.io/zenopy)."
   ]
  },
  {
   "cell_type": "markdown",
   "metadata": {},
   "source": [
    "---\n",
    "**Note**\n",
    "\n",
    "The following section, **Create a config file**, is not required to be able to perform\n",
    "search operations through the Zenodo public records. However, Zenodo \n",
    "[recommends](https://developers.zenodo.org/#authentication) all API requests be \n",
    "authenticated and over HTTPS.\n",
    "\n",
    "---"
   ]
  },
  {
   "cell_type": "markdown",
   "metadata": {},
   "source": [
    "### **Create a config file**"
   ]
  },
  {
   "cell_type": "markdown",
   "metadata": {},
   "source": [
    "When you want to use ``zenopy`` for the first time, you need to give it access to your Zenodo (Sandbox) account. The first step is to store your authentication token(s) in a config file. You can create a new text file (say, **.zenodorc**) in the current directory and store our token in it as shown below"
   ]
  },
  {
   "cell_type": "code",
   "execution_count": null,
   "metadata": {},
   "outputs": [],
   "source": [
    "%%writefile ./.zenodorc\n",
    "[ZENODO]\n",
    "token = \n",
    "\n",
    "[SANDBOX]\n",
    "token = "
   ]
  },
  {
   "cell_type": "markdown",
   "metadata": {},
   "source": [
    "---\n",
    "**Note**\n",
    "\n",
    "If you do not know how to create an authentication token, refer to the [documentation](https://molssi.github.io/zenopy/howtos/client/cli_token.html).\n",
    "\n",
    "---"
   ]
  },
  {
   "cell_type": "markdown",
   "metadata": {},
   "source": [
    "The config file you just created is going to be read by the ``zenopy`` client object to allow you access your personal Zenodo depositions.\n",
    "In addition, the created token will authenticate your API requests sent to the Zenodo server."
   ]
  },
  {
   "cell_type": "markdown",
   "metadata": {},
   "source": [
    "### **Initialize the client**"
   ]
  },
  {
   "cell_type": "markdown",
   "metadata": {},
   "source": [
    "The next step is to import the ``zenopy`` package"
   ]
  },
  {
   "cell_type": "code",
   "execution_count": 1,
   "metadata": {},
   "outputs": [],
   "source": [
    "import zenopy"
   ]
  },
  {
   "cell_type": "markdown",
   "metadata": {},
   "source": [
    "Then, call the ``zenopy``'s client constructor and tell it where the config file is"
   ]
  },
  {
   "cell_type": "code",
   "execution_count": 2,
   "metadata": {},
   "outputs": [
    {
     "name": "stderr",
     "output_type": "stream",
     "text": [
      "WARNING: The config file (~/.zenodorc) is found.\n"
     ]
    }
   ],
   "source": [
    "cli = zenopy.Zenodo(token=\"\", use_sandbox=False)"
   ]
  },
  {
   "cell_type": "markdown",
   "metadata": {},
   "source": [
    "---\n",
    "**Note**\n",
    "\n",
    "Note that because we plan to use ``zenopy`` only for searching through Zenodo's \n",
    "public (and published) records, we can create the client object without an\n",
    "authentication token (empty string) as follows\n",
    "\n",
    "```python\n",
    "    zenopy.Zenodo(token=\"\", use_sandbox=False)\n",
    "```\n",
    "\n",
    "We also set the ``use_sandbox`` argument to ``False`` because we want to \n",
    "search Zenodo's public servers (not those of Zenodo Sandbox).\n",
    "\n",
    "---"
   ]
  },
  {
   "cell_type": "markdown",
   "metadata": {},
   "source": [
    "Great. Now, the ``zenopy`` client is connected to your Zenodo account server and is ready to interact with it."
   ]
  },
  {
   "cell_type": "markdown",
   "metadata": {},
   "source": [
    "### **Initialize a _Records object**"
   ]
  },
  {
   "cell_type": "markdown",
   "metadata": {},
   "source": [
    "The client object allows us to create an instance of the ``_Records`` class"
   ]
  },
  {
   "cell_type": "code",
   "execution_count": 3,
   "metadata": {},
   "outputs": [
    {
     "data": {
      "text/plain": [
       "<zenopy.records._Records at 0x7f7271dac400>"
      ]
     },
     "execution_count": 3,
     "metadata": {},
     "output_type": "execute_result"
    }
   ],
   "source": [
    "rec_obj = cli.init_records()\n",
    "rec_obj"
   ]
  },
  {
   "cell_type": "markdown",
   "metadata": {},
   "source": [
    "### **Search Through Zenodo’s Public Records**"
   ]
  },
  {
   "cell_type": "markdown",
   "metadata": {},
   "source": [
    "Now, you can use the **depo_obj** to create a new deposition draft in your Zenodo account and get a handle to it"
   ]
  },
  {
   "cell_type": "code",
   "execution_count": 6,
   "metadata": {},
   "outputs": [
    {
     "name": "stderr",
     "output_type": "stream",
     "text": [
      "The value of 'content_type' argument is None.\n",
      "ZenoPy will adopt JSON encoding.\n",
      "\n",
      "The value of 'status' argument is None.\n",
      "ZenoPy will search for 'published' record.\n",
      "\n",
      "The value of 'sort' argument is None.\n",
      "ZenoPy will sort the search results according to 'bestmatch' sort option.\n",
      "\n"
     ]
    },
    {
     "data": {
      "text/plain": [
       "[<zenopy.record.Record at 0x7f7271dad7b0>,\n",
       " <zenopy.record.Record at 0x7f72711a7a60>,\n",
       " <zenopy.record.Record at 0x7f7270afeb30>,\n",
       " <zenopy.record.Record at 0x7f7270afe9b0>,\n",
       " <zenopy.record.Record at 0x7f7270aff040>,\n",
       " <zenopy.record.Record at 0x7f7270affe20>,\n",
       " <zenopy.record.Record at 0x7f7270afefe0>,\n",
       " <zenopy.record.Record at 0x7f7270afc460>,\n",
       " <zenopy.record.Record at 0x7f7270afc5e0>,\n",
       " <zenopy.record.Record at 0x7f7270afcaf0>]"
      ]
     },
     "execution_count": 6,
     "metadata": {},
     "output_type": "execute_result"
    }
   ],
   "source": [
    "rec_list = rec_obj.list_records()\n",
    "rec_list"
   ]
  },
  {
   "cell_type": "code",
   "execution_count": 12,
   "metadata": {},
   "outputs": [],
   "source": [
    "def print_record_titles(record_list: list[zenopy.record.Record] = None) -> None:\n",
    "    if record_list is None:\n",
    "        raise RuntimeError(\"The 'record_list' argument cannot be None.\")\n",
    "    for record_i in record_list:\n",
    "        print(record_i.title)"
   ]
  },
  {
   "cell_type": "markdown",
   "metadata": {},
   "source": [
    "Nice. Let's use the deposition handle (**my_depo**) to check its content via its ``data`` attribute"
   ]
  },
  {
   "cell_type": "code",
   "execution_count": 13,
   "metadata": {},
   "outputs": [
    {
     "name": "stdout",
     "output_type": "stream",
     "text": [
      "Attempted hybridization between Oryza sativa L. and Porteresia coarctata T\n",
      "Histological observation of callus morphology in rice\n",
      "DNA content in rice hybrids and heterosis\n",
      "Factors affecting pollen embryogenesis of rice anther culture\n",
      "Genetic studies on purple pigmentation in rice and its use in breeding two-line rice hybrids\n",
      "Calorific values of 60 rice varieties\n",
      "Cibodas, a high-yielding variety with good grain quality\n",
      "Screening of basmati rice genotypes against blast\n",
      "Preliminary evidence of aphid resistance to transgenic plants\n",
      "Role of host plant resistance in successful control of brown planthopper in central Luzon, Philippines\n"
     ]
    }
   ],
   "source": [
    "print_record_titles(record_list=rec_list)"
   ]
  },
  {
   "cell_type": "code",
   "execution_count": 14,
   "metadata": {},
   "outputs": [
    {
     "name": "stderr",
     "output_type": "stream",
     "text": [
      "The value of 'content_type' argument is None.\n",
      "ZenoPy will adopt JSON encoding.\n",
      "\n",
      "The value of 'status' argument is None.\n",
      "ZenoPy will search for 'published' record.\n",
      "\n",
      "The value of 'sort' argument is None.\n",
      "ZenoPy will sort the search results according to 'bestmatch' sort option.\n",
      "\n"
     ]
    }
   ],
   "source": [
    "molssi_rec_list = rec_obj.list_records(communities=\"molssi\")"
   ]
  },
  {
   "cell_type": "code",
   "execution_count": 15,
   "metadata": {},
   "outputs": [
    {
     "name": "stdout",
     "output_type": "stream",
     "text": [
      "SEAMM: Simulation Environment for Atomistic and Molecular Modeling\n",
      "Plug-in for SEAMM for building fluid systems with PACKMOL.\n",
      "MolSSI Guidelines on APOD Cyclic Parallelization Strategy\n",
      "Plug-in for SEAMM to allow custom python scripts in flowcharts\n",
      "DES5M\n",
      "DESS66 and DESS66x8\n",
      "DES370K\n",
      "DES15K\n",
      "Plug-in for SEAMM to create structures from SMILES\n",
      "MolSSI Formatting Guidelines for Machine Learning Products\n"
     ]
    }
   ],
   "source": [
    "print_record_titles(molssi_rec_list)"
   ]
  },
  {
   "cell_type": "markdown",
   "metadata": {},
   "source": [
    "Upon construction, each deposition is provided with a unique DOI and an ID. Let's print them out here"
   ]
  }
 ],
 "metadata": {
  "kernelspec": {
   "display_name": "Python 3.9.14 ('zen')",
   "language": "python",
   "name": "python3"
  },
  "language_info": {
   "codemirror_mode": {
    "name": "ipython",
    "version": 3
   },
   "file_extension": ".py",
   "mimetype": "text/x-python",
   "name": "python",
   "nbconvert_exporter": "python",
   "pygments_lexer": "ipython3",
   "version": "3.10.7"
  },
  "orig_nbformat": 4,
  "vscode": {
   "interpreter": {
    "hash": "fa979838d4606453796a604d401a3dcfad39a4f96fa323fee76ace6b35df9f6a"
   }
  }
 },
 "nbformat": 4,
 "nbformat_minor": 2
}
